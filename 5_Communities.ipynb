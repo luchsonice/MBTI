{
 "cells": [
  {
   "cell_type": "code",
   "execution_count": null,
   "metadata": {},
   "outputs": [],
   "source": [
    "G = G.to_undirected()\n",
    "\n",
    "# Get node attributes for authors and their flair\n",
    "authors = list(G.nodes())\n",
    "flairs = nx.get_node_attributes(G, 'flair')\n",
    "\n",
    "# Dataframe with authors and flairs\n",
    "df_flairs = pd.DataFrame(list(flairs.items()), columns=['Author', 'Flair'])\n",
    "\n",
    "trials = 100\n",
    "number_of_communities = np.zeros(trials)\n",
    "for i in range(trials):\n",
    "    if i % 100 == 0:\n",
    "        print(i)\n",
    "    partition = community.best_partition(G)\n",
    "    number_of_communities[i] = len(set(partition.values()))\n",
    "\n",
    "med = int(np.median(number_of_communities))\n",
    "# Print the number of communities\n",
    "print(\"Mean number of communities:\", np.mean(number_of_communities))\n",
    "print(\"Median number of communities:\", int(np.median(number_of_communities)))"
   ]
  },
  {
   "cell_type": "code",
   "execution_count": null,
   "metadata": {},
   "outputs": [],
   "source": [
    "def modularity(G,partition):\n",
    "    modularity_vals = []\n",
    "    L = G.number_of_edges()\n",
    "    for i in range(len(partition)):\n",
    "        Lc = G.subgraph(partition[i]).number_of_edges()\n",
    "        kc = 0\n",
    "        for node in partition[i]:\n",
    "            kc += G.degree(node)\n",
    "        modularity_vals.append(Lc/L - (kc/(2*L))**2)\n",
    "    return sum(modularity_vals)\n",
    "\n",
    "while True:\n",
    "    partition = community.best_partition(G)\n",
    "    if len(set(partition.values())) == med:\n",
    "        break\n",
    "\n",
    "# Create dataframe with author and community\n",
    "df_community = pd.DataFrame(list(partition.items()),columns = ['Author','Community'])\n",
    "df_community = df_community.sort_values(by='Community')"
   ]
  },
  {
   "cell_type": "code",
   "execution_count": null,
   "metadata": {},
   "outputs": [],
   "source": [
    "# Save df_community as pkl\n",
    "with open('LargeData/df_community.pickle', 'wb') as f:\n",
    "    pickle.dump(df_community, f)"
   ]
  },
  {
   "cell_type": "code",
   "execution_count": null,
   "metadata": {},
   "outputs": [],
   "source": [
    "# modularity\n",
    "print('Modularity of best partition:',modularity(G, [df_community[df_community['Community']==i]['Author'].values for i in range(len(df_community['Community'].unique()))]))"
   ]
  },
  {
   "cell_type": "code",
   "execution_count": null,
   "metadata": {},
   "outputs": [],
   "source": [
    "number_of_unique_communities = len(df_community['Community'].unique())\n",
    "number_of_members_in_each_community = df_community['Community'].value_counts().values\n",
    "\n",
    "labels = ['Community ' + str(i) + '\\n' + str(number_of_members_in_each_community[i]) + ' members' for i in range(number_of_unique_communities)]\n",
    "plt.figure(figsize=(12,7))\n",
    "squarify.plot(sizes=df_community['Community'].value_counts().values,label=labels,alpha=.8,color=sb.color_palette(\"Set3\", number_of_unique_communities),ec='black')\n",
    "plt.title('Communities')\n",
    "plt.axis('off')\n",
    "plt.show()"
   ]
  },
  {
   "cell_type": "code",
   "execution_count": null,
   "metadata": {},
   "outputs": [],
   "source": [
    "# find the authors from the graph in data\n",
    "authors = list(G.nodes())\n",
    "flairs = nx.get_node_attributes(G,'flair')\n",
    "\n",
    "# Make dataframe with authors and flairs\n",
    "df_flairs = pd.DataFrame(list(flairs.items()),columns = ['Author','Flair'])\n",
    "\n",
    "# Compute modularity for the authors divided into flairs\n",
    "modularity_flairs = modularity(G, [df_flairs[df_flairs['Flair']==i]['Author'].values for i in df_flairs['Flair'].unique()])\n",
    "print('Modularity Flairs:',modularity_flairs)"
   ]
  },
  {
   "cell_type": "code",
   "execution_count": null,
   "metadata": {},
   "outputs": [],
   "source": []
  },
  {
   "cell_type": "code",
   "execution_count": null,
   "metadata": {},
   "outputs": [],
   "source": []
  }
 ],
 "metadata": {
  "kernelspec": {
   "display_name": "Python 3.8.17 ('base')",
   "language": "python",
   "name": "python3"
  },
  "language_info": {
   "name": "python",
   "version": "3.8.17"
  },
  "orig_nbformat": 4,
  "vscode": {
   "interpreter": {
    "hash": "4283141bebd715001f35122986f72053f481d7843d97eb240b72cdbb548092ab"
   }
  }
 },
 "nbformat": 4,
 "nbformat_minor": 2
}
