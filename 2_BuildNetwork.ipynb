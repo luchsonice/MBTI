{
 "cells": [
  {
   "cell_type": "code",
   "execution_count": 8,
   "metadata": {},
   "outputs": [],
   "source": [
    "import networkx as nx\n",
    "import urllib.request\n",
    "import json\n",
    "import pandas as pd\n",
    "import re\n",
    "import pickle\n",
    "import numpy as np\n",
    "import os\n",
    "from tqdm import tqdm\n",
    "import matplotlib.pyplot as plt"
   ]
  },
  {
   "cell_type": "markdown",
   "metadata": {},
   "source": [
    "### Now that we cleaned up the data we can build the network."
   ]
  },
  {
   "cell_type": "code",
   "execution_count": 17,
   "metadata": {},
   "outputs": [
    {
     "name": "stderr",
     "output_type": "stream",
     "text": [
      "100%|██████████| 26078/26078 [00:00<00:00, 129716.08it/s]\n",
      "100%|██████████| 593986/593986 [00:01<00:00, 342473.99it/s]\n",
      "100%|██████████| 593986/593986 [00:07<00:00, 77897.10it/s]\n"
     ]
    }
   ],
   "source": [
    "# Load data from data cleaner\n",
    "edges = pd.read_pickle('LargeData/edges.pkl')\n",
    "submissions = pd.read_pickle('LargeData/submissions.pkl')\n",
    "\n",
    "\n",
    "DirectedGraph = nx.MultiDiGraph()\n",
    "\n",
    "# Create nodes for each author and add all submissions to it\n",
    "for post in tqdm(submissions):\n",
    "    author_name = post[\"author\"]\n",
    "    author_flair = post[\"flair\"]\n",
    "    submission = post[\"text\"]\n",
    "    submissions_id = post[\"id\"]\n",
    "\n",
    "    if author_name not in DirectedGraph.nodes():\n",
    "\n",
    "        DirectedGraph.add_node(author_name,flair = author_flair,submissions = [submission],submissions_id = [submissions_id])\n",
    "    else:\n",
    "        DirectedGraph.nodes[author_name]['submissions'].append(submission)\n",
    "        DirectedGraph.nodes[author_name]['submissions_id'].append(submissions_id)\n",
    "\n",
    "# Create a node for authors that only have comments\n",
    "for post in tqdm(edges):\n",
    "    author_name = post[\"author\"]\n",
    "    author_flair = post[\"flair\"]\n",
    "\n",
    "    # Add author to graph if not already in it\n",
    "    if author_name not in DirectedGraph.nodes:\n",
    "        DirectedGraph.add_node(author_name,flair=author_flair,submissions=[],submissions_id=[])\n",
    "\n",
    "# Create edges between authors \n",
    "for post in tqdm(edges):\n",
    "    author_name = post[\"author\"]\n",
    "    author_flair = post[\"flair\"]\n",
    "    addressee = post[\"addressee\"]\n",
    "    comment = post[\"comment\"]\n",
    "    comment_id = post[\"id\"]\n",
    "\n",
    "    if addressee not in DirectedGraph.nodes:\n",
    "        #Don't add the edge if the addressee is not in the graph because they were deleted\n",
    "        #print(\"No addressee  at comment: \",comment_id, \" to : \",addressee)\n",
    "        continue\n",
    "    else:\n",
    "        DirectedGraph.add_edge(author_name,addressee,comment=comment,comment_id=comment_id)\n",
    "    \n"
   ]
  },
  {
   "cell_type": "markdown",
   "metadata": {},
   "source": [
    "### Save data"
   ]
  },
  {
   "cell_type": "code",
   "execution_count": 18,
   "metadata": {},
   "outputs": [],
   "source": [
    "# Save authors as a pickle file\n",
    "pickle.dump(DirectedGraph, open('LargeData/Graph.pkl','wb'))"
   ]
  }
 ],
 "metadata": {
  "kernelspec": {
   "display_name": "Python 3.8.17 ('base')",
   "language": "python",
   "name": "python3"
  },
  "language_info": {
   "codemirror_mode": {
    "name": "ipython",
    "version": 3
   },
   "file_extension": ".py",
   "mimetype": "text/x-python",
   "name": "python",
   "nbconvert_exporter": "python",
   "pygments_lexer": "ipython3",
   "version": "3.11.4"
  },
  "orig_nbformat": 4,
  "vscode": {
   "interpreter": {
    "hash": "4283141bebd715001f35122986f72053f481d7843d97eb240b72cdbb548092ab"
   }
  }
 },
 "nbformat": 4,
 "nbformat_minor": 2
}
