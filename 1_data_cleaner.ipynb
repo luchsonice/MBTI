{
 "cells": [
  {
   "cell_type": "code",
   "execution_count": 1,
   "metadata": {},
   "outputs": [],
   "source": [
    "import pickle\n",
    "import json\n",
    "import os\n",
    "from datetime import datetime\n",
    "import pandas as pd\n",
    "from tqdm import tqdm\n",
    "import regex as re\n",
    "import nltk\n",
    "import matplotlib.pyplot as plt"
   ]
  },
  {
   "cell_type": "markdown",
   "metadata": {},
   "source": [
    "# Data cleaning\n",
    "\n",
    "Main responsible Andreas\n",
    "\n",
    "We get the data from https://the-eye.eu/redarcs/\n",
    "\n",
    "The data comes in two files:\n",
    "mbti_submissions contains all the post in the subreddit\n",
    "mbti_comments contains all the comments in the subredit, keep in mind a comment can comment on another comment.\n",
    "\n",
    "We then discard all file without flair or missing deleted authors "
   ]
  },
  {
   "cell_type": "code",
   "execution_count": 8,
   "metadata": {},
   "outputs": [
    {
     "name": "stdout",
     "output_type": "stream",
     "text": [
      "Error: File c:\\Users\\Andre\\OneDrive - Danmarks Tekniske Universitet\\Social Data Science\\Projekt_git\\MBTI\\LargeData/mbti_comments.zst not found!\n",
      "Error: File c:\\Users\\Andre\\OneDrive - Danmarks Tekniske Universitet\\Social Data Science\\Projekt_git\\MBTI\\LargeData/mbti_submissions.zst not found!\n"
     ]
    }
   ],
   "source": [
    "#The data comes in zstd format, this script decompresses to jsonl\n",
    "\n",
    "import zstandard as zstd\n",
    "import os\n",
    "\n",
    "def decompress_zst(input_file_name, output_file_name):\n",
    "    # Check if the input file exists\n",
    "    if not os.path.exists(input_file_name):\n",
    "        print(f\"Error: File {input_file_name} not found!\")\n",
    "        return\n",
    "\n",
    "    # Check if the output file already exists\n",
    "    if os.path.exists(output_file_name):\n",
    "        overwrite = input(f\"Warning: {output_file_name} already exists. Overwrite? (y/n): \")\n",
    "        if overwrite.lower() != 'y':\n",
    "            print(\"Decompression aborted.\")\n",
    "            return\n",
    "\n",
    "    # Attempt to decompress the file\n",
    "    try:\n",
    "        with open(input_file_name, 'rb') as compressed:\n",
    "            dctx = zstd.ZstdDecompressor()\n",
    "            with open(output_file_name, 'wb') as destination:\n",
    "                dctx.copy_stream(compressed, destination)\n",
    "        print(f\"Decompressed {input_file_name} to {output_file_name}\")\n",
    "    except Exception as e:\n",
    "        print(f\"Error during decompression: {e}\")\n",
    "\n",
    "\n",
    "input_file_name = os.path.join(os.getcwd(), \"LargeData/mbti_comments.zst\")\n",
    "output_file_name = os.path.join(os.getcwd(), 'LargeData/mbti_comments.ndjson')\n",
    "decompress_zst(input_file_name, output_file_name)\n",
    "input_file_name = os.path.join(os.getcwd(), \"LargeData/mbti_submissions.zst\")\n",
    "output_file_name = os.path.join(os.getcwd(), 'LargeData/mbti_submissions.ndjson')\n",
    "decompress_zst(input_file_name, output_file_name)"
   ]
  },
  {
   "cell_type": "code",
   "execution_count": 22,
   "metadata": {},
   "outputs": [
    {
     "data": {
      "image/png": "[encoded data removed]",
      "text/plain": [
       "<Figure size 640x480 with 1 Axes>"
      ]
     },
     "metadata": {},
     "output_type": "display_data"
    }
   ],
   "source": [
    "#Year distribution of posts\n",
    "file_dir = \"LargeData\"\n",
    "year_dict = {}\n",
    "for load_file in ['mbti_comments.ndjson','mbti_submissions.ndjson']:\n",
    "    with open(os.path.join(file_dir,load_file), encoding='utf-8') as f:\n",
    "        for line in f:\n",
    "            post=json.loads(line)\n",
    "            year = datetime.utcfromtimestamp(int(post['created_utc'])).year\n",
    "            if year in year_dict:\n",
    "                year_dict[year]+=1\n",
    "            else:\n",
    "                year_dict[year]=1\n",
    "\n",
    "\n",
    "plt.bar(year_dict.keys(),year_dict.values())\n",
    "plt.xlabel('Year')\n",
    "plt.ylabel('Number of posts')\n",
    "plt.xticks(list(year_dict.keys()), rotation=90)\n",
    "plt.title('Year distribution of posts')\n",
    "plt.show()\n"
   ]
  },
  {
   "cell_type": "markdown",
   "metadata": {},
   "source": [
    "# Data removal\n",
    "Remove all data without author flair and not from 2022"
   ]
  },
  {
   "cell_type": "code",
   "execution_count": 3,
   "metadata": {},
   "outputs": [],
   "source": [
    "flair_list = [\"intp\",\"intj\",\"entp\",\"entj\",\"infj\",\"infp\",\"enfj\",\"enfp\",\"istj\",\"isfj\",\"estj\",\"esfj\",\"istp\",\"isfp\",\"estp\",\"esfp\"]\n",
    "\n",
    "file_dir = \"LargeData\"\n",
    "\n",
    "author_dict = {} #dict of who wrote each post\n",
    "\n",
    "comment_list = [] #list of comments\n",
    "submission_list = [] #list of submissions\n",
    "\n",
    "\n",
    "#Load submisson ndjson file\n",
    "for load_file in ['mbti_comments.ndjson','mbti_submissions.ndjson']:\n",
    "    with open(os.path.join(file_dir,load_file), encoding='utf-8') as f:\n",
    "        for line in f:\n",
    "            post=json.loads(line)\n",
    "\n",
    "            #Tings that will delete the comment\n",
    "            if post[\"author\"] == \"[deleted]\": #If the author is deleted\n",
    "                continue\n",
    "                print(\"Deleted author\")\n",
    "\n",
    "            #elif datetime.utcfromtimestamp(int(post['created_utc'])).year not in [2022]: #If the post is from 2022\n",
    "            #    continue\n",
    "            #    print(\"Wrong year\")\n",
    "\n",
    "            elif post['author_flair_css_class'] not in flair_list: #If the author has no flair\n",
    "                continue\n",
    "                print(\"No flair\")\n",
    "            \n",
    "            elif post.get('body',\"\") == \"\" and post.get('selftext',\"\") == \"\": #If the post is removed or deleted\n",
    "                continue\n",
    "                print(\"No text\")\n",
    "            else:\n",
    "                id = post['id']\n",
    "                author = post['author']\n",
    "                flair = post['author_flair_css_class']\n",
    "\n",
    "\n",
    "                author_dict[id] = author\n",
    "\n",
    "                parent_id=post.get(\"parent_id\")\n",
    "                if parent_id == None:\n",
    "                    text=post[\"selftext\"]\n",
    "                    parents_author = None\n",
    "                    submission_list.append({\"id\": id, \"author\": author, \"flair\": flair, \"text\": text, \"parents_author\": parents_author})\n",
    "                else:\n",
    "                    text=post[\"body\"]\n",
    "                    comment_list.append({\"id\": id, \"author\": author, \"flair\": flair, \"text\": text, \"parent_id\": parent_id})\n",
    "                        \n",
    "\n",
    "\n",
    "\n"
   ]
  },
  {
   "cell_type": "code",
   "execution_count": null,
   "metadata": {},
   "outputs": [],
   "source": []
  },
  {
   "cell_type": "markdown",
   "metadata": {},
   "source": [
    "# Text cleaning\n",
    "We tokenise the text remove stopwords and lemmatize it. "
   ]
  },
  {
   "cell_type": "code",
   "execution_count": 4,
   "metadata": {},
   "outputs": [],
   "source": [
    "#Clan text\n",
    "from nltk.tokenize import word_tokenize\n",
    "import nltk\n",
    "import regex as re\n",
    "def preprocess(text):\n",
    "    text = re.sub(r'\\'s','',text)\n",
    "    text = re.sub(r'[^\\w\\s]','',text)\n",
    "    text = text.lower()\n",
    "    text = nltk.word_tokenize(text)\n",
    "    text = [t for t in text if t not in nltk.corpus.stopwords.words('english')]\n",
    "    text = [nltk.WordNetLemmatizer().lemmatize(t) for t in text]\n",
    "    return text"
   ]
  },
  {
   "cell_type": "markdown",
   "metadata": {},
   "source": [
    "# Make link list\n",
    "We make a list where each entry represent and edge in our graph. "
   ]
  },
  {
   "cell_type": "code",
   "execution_count": 5,
   "metadata": {},
   "outputs": [
    {
     "name": "stderr",
     "output_type": "stream",
     "text": [
      "100%|██████████| 1782911/1782911 [1:33:56<00:00, 316.29it/s]  \n"
     ]
    }
   ],
   "source": [
    "#Make link list that can be used to make a graph\n",
    "edge_list = []\n",
    "\n",
    "for post in tqdm(comment_list):\n",
    "    \n",
    "\n",
    "    parents_author = author_dict.get(post[\"parent_id\"][3:])\n",
    "\n",
    "    #If the parent is deleted, skip\n",
    "    if parents_author == None:\n",
    "        continue\n",
    "\n",
    "    #Process text\n",
    "    text = preprocess(post[\"text\"])\n",
    "\n",
    "    #make dictionary\n",
    "    edge = {\"author\":post[\"author\"], \"addressee\":parents_author, \"id\":post[\"id\"], \"flair\": post[\"flair\"],\"comment\":text}\n",
    "\n",
    "    edge_list.append(edge)\n"
   ]
  },
  {
   "cell_type": "code",
   "execution_count": 8,
   "metadata": {},
   "outputs": [
    {
     "name": "stdout",
     "output_type": "stream",
     "text": [
      "883472\n"
     ]
    }
   ],
   "source": [
    "#Save edge list\n",
    "with open('LargeData/edges_all.pkl', 'wb') as outfile:\n",
    "    pickle.dump(edge_list, outfile)\n",
    "print(len(edge_list))"
   ]
  },
  {
   "cell_type": "code",
   "execution_count": 9,
   "metadata": {},
   "outputs": [
    {
     "name": "stdout",
     "output_type": "stream",
     "text": [
      "37312\n"
     ]
    }
   ],
   "source": [
    "with open('LargeData/submissions_all.pkl', 'wb') as outfile:\n",
    "    pickle.dump(submission_list, outfile)\n",
    "print(len(submission_list))"
   ]
  }
 ],
 "metadata": {
  "kernelspec": {
   "display_name": "SkabsHumanisme",
   "language": "python",
   "name": "python3"
  },
  "language_info": {
   "codemirror_mode": {
    "name": "ipython",
    "version": 3
   },
   "file_extension": ".py",
   "mimetype": "text/x-python",
   "name": "python",
   "nbconvert_exporter": "python",
   "pygments_lexer": "ipython3",
   "version": "3.11.4"
  }
 },
 "nbformat": 4,
 "nbformat_minor": 2
}
