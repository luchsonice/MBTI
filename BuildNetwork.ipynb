{
 "cells": [
  {
   "cell_type": "code",
   "execution_count": 1,
   "metadata": {},
   "outputs": [],
   "source": [
    "import networkx as nx\n",
    "import urllib.request\n",
    "import json\n",
    "import pandas as pd\n",
    "import re\n",
    "import pickle\n",
    "import numpy as np"
   ]
  },
  {
   "cell_type": "markdown",
   "metadata": {},
   "source": [
    "Now that we cleaned up the data we can build the network."
   ]
  },
  {
   "cell_type": "code",
   "execution_count": null,
   "metadata": {},
   "outputs": [],
   "source": [
    "data = np.load()\n",
    "author_posts = dict()\n",
    "for post in data:\n",
    "    # Create a dictionary of authors and theirflair, who they answered and their comment\n",
    "    author_name = re.findall(r'\"out_going\":\"(.*?)\"',post)\n",
    "    author_flair = re.findall(r'\"author_flair_text\":\"(.*?)\"',post)\n",
    "    answered = re.findall(r'\"in_going\":\"(.*?)\"',post)\n",
    "    comment = re.findall(r'\"comment\":\"(.*?)\"',post)\n",
    "\n",
    "    # Add author to dictionary or add attributes\n",
    "    if author_name not in author_posts:\n",
    "        info_so_far = author_posts[author_name]\n",
    "        author_posts[author_name] = [info_so_far[0],info_so_far[1].append(answered),info_so_far[2]+comment]\n",
    "    else:\n",
    "        author_posts[author_name] = [author_flair,[answered],comment]\n",
    "\n",
    "# Create a directed graph\n",
    "DirectedGraph = nx.DiGraph()\n",
    "for author_name in author_posts:\n",
    "    # Add nodes to the graph\n",
    "    DirectedGraph.add_node(author_name,flair=author_posts[author_name][0],comments=author_posts[author_name][2])\n",
    "\n",
    "    # Add edges\n",
    "    for edge_to in author_posts[author_name][1]:\n",
    "        DirectedGraph.add_edge(author_name,edge_to)\n",
    "\n",
    "# Save authors as a pickle file\n",
    "pickle.dump(DirectedGraph, open('Directed2022.pkl','wb'))"
   ]
  }
 ],
 "metadata": {
  "kernelspec": {
   "display_name": "Python 3.8.17 ('base')",
   "language": "python",
   "name": "python3"
  },
  "language_info": {
   "codemirror_mode": {
    "name": "ipython",
    "version": 3
   },
   "file_extension": ".py",
   "mimetype": "text/x-python",
   "name": "python",
   "nbconvert_exporter": "python",
   "pygments_lexer": "ipython3",
   "version": "3.8.17"
  },
  "orig_nbformat": 4,
  "vscode": {
   "interpreter": {
    "hash": "4283141bebd715001f35122986f72053f481d7843d97eb240b72cdbb548092ab"
   }
  }
 },
 "nbformat": 4,
 "nbformat_minor": 2
}
