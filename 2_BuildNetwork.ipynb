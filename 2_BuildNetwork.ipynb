{
 "cells": [
  {
   "cell_type": "code",
   "execution_count": 7,
   "metadata": {},
   "outputs": [],
   "source": [
    "import networkx as nx\n",
    "import urllib.request\n",
    "import json\n",
    "import pandas as pd\n",
    "import re\n",
    "import pickle\n",
    "import numpy as np\n",
    "import os\n",
    "from tqdm import tqdm\n",
    "import matplotlib.pyplot as plt"
   ]
  },
  {
   "cell_type": "markdown",
   "metadata": {},
   "source": [
    "### Now that we cleaned up the data we can build the network."
   ]
  },
  {
   "cell_type": "code",
   "execution_count": 8,
   "metadata": {},
   "outputs": [],
   "source": [
    "data_path = 'data/'\n",
    "data_path = 'data/'\n",
    "file = 'links2022.ndjson'\n",
    "\n",
    "data = pd.read_json(data_path + file, lines=True)\n",
    "data = data.rename(columns={'out_going':'author','in_going':'adressee'})\n",
    "author_posts = dict()\n",
    "for post in tqdm(range(data.shape[0])):\n",
    "    # Create a dictionary of authors and their flair, who they answered and their comment\n",
    "    author_name = data['author'][post]\n",
    "    author_flair = data['flair'][post]\n",
    "    answered = data['adressee'][post]\n",
    "    comment = data['comment'][post]\n",
    "    comment_id = data['id'][post]\n",
    "    \n",
    "    # Add author to dictionary or add attributes\n",
    "    if author_name not in author_posts:\n",
    "        author_posts[author_name] = [author_flair,[answered],comment,[comment_id]]\n",
    "    else:\n",
    "        author_posts[author_name][1].append(answered)\n",
    "        author_posts[author_name][2] += comment\n",
    "        author_posts[author_name][3].append(comment_id)"
   ]
  },
  {
   "cell_type": "markdown",
   "metadata": {},
   "source": [
    "### Build Graph"
   ]
  },
  {
   "cell_type": "code",
   "execution_count": null,
   "metadata": {},
   "outputs": [],
   "source": [
    "# Create a directed graph\n",
    "DirectedGraph = nx.MultiDiGraph()\n",
    "for author_name in author_posts.keys():\n",
    "    # Add nodes to the graph\n",
    "    DirectedGraph.add_node(author_name,flair=author_posts[author_name][0],comments=author_posts[author_name][2],comment_id=author_posts[author_name][3])\n",
    "\n",
    "for author_name in author_posts.keys():\n",
    "    # Add edges\n",
    "    for edge_to in author_posts[author_name][1]:\n",
    "        if edge_to != None:\n",
    "            DirectedGraph.add_edge(author_name,edge_to)\n",
    "\n",
    "# Create folder if it does not exist\n",
    "if not os.path.exists('LargeData'):\n",
    "    os.makedirs('LargeData')\n",
    "    \n",
    "# Save authors as a pickle file\n",
    "pickle.dump(DirectedGraph, open('LargeData/Directed2022.pkl','wb'))"
   ]
  },
  {
   "cell_type": "markdown",
   "metadata": {},
   "source": [
    "### Save data"
   ]
  },
  {
   "cell_type": "code",
   "execution_count": null,
   "metadata": {},
   "outputs": [],
   "source": [
    "pickle.dump(data, open('LargeData/data2022.pkl','wb'))"
   ]
  }
 ],
 "metadata": {
  "kernelspec": {
   "display_name": "Python 3.8.17 ('base')",
   "language": "python",
   "name": "python3"
  },
  "language_info": {
   "codemirror_mode": {
    "name": "ipython",
    "version": 3
   },
   "file_extension": ".py",
   "mimetype": "text/x-python",
   "name": "python",
   "nbconvert_exporter": "python",
   "pygments_lexer": "ipython3",
   "version": "3.8.17"
  },
  "orig_nbformat": 4,
  "vscode": {
   "interpreter": {
    "hash": "4283141bebd715001f35122986f72053f481d7843d97eb240b72cdbb548092ab"
   }
  }
 },
 "nbformat": 4,
 "nbformat_minor": 2
}
