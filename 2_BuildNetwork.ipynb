{
 "cells": [
  {
   "cell_type": "code",
   "execution_count": 2,
   "metadata": {},
   "outputs": [],
   "source": [
    "import networkx as nx\n",
    "import urllib.request\n",
    "import json\n",
    "import pandas as pd\n",
    "import re\n",
    "import pickle\n",
    "import numpy as np\n",
    "import os\n",
    "from tqdm import tqdm\n",
    "import matplotlib.pyplot as plt"
   ]
  },
  {
   "cell_type": "markdown",
   "metadata": {},
   "source": [
    "### Now that we cleaned up the data we can build the network."
   ]
  },
  {
   "cell_type": "code",
   "execution_count": 2,
   "metadata": {},
   "outputs": [
    {
     "name": "stderr",
     "output_type": "stream",
     "text": [
      "  0%|          | 0/1245214 [00:00<?, ?it/s]\n"
     ]
    },
    {
     "ename": "KeyError",
     "evalue": "'author'",
     "output_type": "error",
     "traceback": [
      "\u001b[1;31m---------------------------------------------------------------------------\u001b[0m",
      "\u001b[1;31mKeyError\u001b[0m                                  Traceback (most recent call last)",
      "File \u001b[1;32mc:\\Users\\Andre\\anaconda3\\envs\\SkabsHumanisme\\Lib\\site-packages\\pandas\\core\\indexes\\base.py:3653\u001b[0m, in \u001b[0;36mIndex.get_loc\u001b[1;34m(self, key)\u001b[0m\n\u001b[0;32m   3652\u001b[0m \u001b[39mtry\u001b[39;00m:\n\u001b[1;32m-> 3653\u001b[0m     \u001b[39mreturn\u001b[39;00m \u001b[39mself\u001b[39m\u001b[39m.\u001b[39m_engine\u001b[39m.\u001b[39mget_loc(casted_key)\n\u001b[0;32m   3654\u001b[0m \u001b[39mexcept\u001b[39;00m \u001b[39mKeyError\u001b[39;00m \u001b[39mas\u001b[39;00m err:\n",
      "File \u001b[1;32mc:\\Users\\Andre\\anaconda3\\envs\\SkabsHumanisme\\Lib\\site-packages\\pandas\\_libs\\index.pyx:147\u001b[0m, in \u001b[0;36mpandas._libs.index.IndexEngine.get_loc\u001b[1;34m()\u001b[0m\n",
      "File \u001b[1;32mc:\\Users\\Andre\\anaconda3\\envs\\SkabsHumanisme\\Lib\\site-packages\\pandas\\_libs\\index.pyx:176\u001b[0m, in \u001b[0;36mpandas._libs.index.IndexEngine.get_loc\u001b[1;34m()\u001b[0m\n",
      "File \u001b[1;32mpandas\\_libs\\hashtable_class_helper.pxi:7080\u001b[0m, in \u001b[0;36mpandas._libs.hashtable.PyObjectHashTable.get_item\u001b[1;34m()\u001b[0m\n",
      "File \u001b[1;32mpandas\\_libs\\hashtable_class_helper.pxi:7088\u001b[0m, in \u001b[0;36mpandas._libs.hashtable.PyObjectHashTable.get_item\u001b[1;34m()\u001b[0m\n",
      "\u001b[1;31mKeyError\u001b[0m: 'author'",
      "\nThe above exception was the direct cause of the following exception:\n",
      "\u001b[1;31mKeyError\u001b[0m                                  Traceback (most recent call last)",
      "\u001b[1;32mc:\\Users\\Andre\\OneDrive - Danmarks Tekniske Universitet\\Social Data Science\\Projekt_git\\MBTI\\2_BuildNetwork.ipynb Cell 3\u001b[0m line \u001b[0;36m6\n\u001b[0;32m      <a href='vscode-notebook-cell:/c%3A/Users/Andre/OneDrive%20-%20Danmarks%20Tekniske%20Universitet/Social%20Data%20Science/Projekt_git/MBTI/2_BuildNetwork.ipynb#W2sZmlsZQ%3D%3D?line=2'>3</a>\u001b[0m edgelist \u001b[39m=\u001b[39m []\n\u001b[0;32m      <a href='vscode-notebook-cell:/c%3A/Users/Andre/OneDrive%20-%20Danmarks%20Tekniske%20Universitet/Social%20Data%20Science/Projekt_git/MBTI/2_BuildNetwork.ipynb#W2sZmlsZQ%3D%3D?line=3'>4</a>\u001b[0m \u001b[39mfor\u001b[39;00m post \u001b[39min\u001b[39;00m tqdm(\u001b[39mrange\u001b[39m(data\u001b[39m.\u001b[39mshape[\u001b[39m0\u001b[39m])):\n\u001b[0;32m      <a href='vscode-notebook-cell:/c%3A/Users/Andre/OneDrive%20-%20Danmarks%20Tekniske%20Universitet/Social%20Data%20Science/Projekt_git/MBTI/2_BuildNetwork.ipynb#W2sZmlsZQ%3D%3D?line=4'>5</a>\u001b[0m     \u001b[39m# Create a dictionary of authors and their flair, who they answered and their comment\u001b[39;00m\n\u001b[1;32m----> <a href='vscode-notebook-cell:/c%3A/Users/Andre/OneDrive%20-%20Danmarks%20Tekniske%20Universitet/Social%20Data%20Science/Projekt_git/MBTI/2_BuildNetwork.ipynb#W2sZmlsZQ%3D%3D?line=5'>6</a>\u001b[0m     author_name \u001b[39m=\u001b[39m data[\u001b[39m'\u001b[39m\u001b[39mauthor\u001b[39m\u001b[39m'\u001b[39m][post]\n\u001b[0;32m      <a href='vscode-notebook-cell:/c%3A/Users/Andre/OneDrive%20-%20Danmarks%20Tekniske%20Universitet/Social%20Data%20Science/Projekt_git/MBTI/2_BuildNetwork.ipynb#W2sZmlsZQ%3D%3D?line=6'>7</a>\u001b[0m     author_flair \u001b[39m=\u001b[39m data[\u001b[39m'\u001b[39m\u001b[39mflair\u001b[39m\u001b[39m'\u001b[39m][post]\n\u001b[0;32m      <a href='vscode-notebook-cell:/c%3A/Users/Andre/OneDrive%20-%20Danmarks%20Tekniske%20Universitet/Social%20Data%20Science/Projekt_git/MBTI/2_BuildNetwork.ipynb#W2sZmlsZQ%3D%3D?line=7'>8</a>\u001b[0m     answered \u001b[39m=\u001b[39m data[\u001b[39m'\u001b[39m\u001b[39maddressee\u001b[39m\u001b[39m'\u001b[39m][post]\n",
      "File \u001b[1;32mc:\\Users\\Andre\\anaconda3\\envs\\SkabsHumanisme\\Lib\\site-packages\\pandas\\core\\frame.py:3761\u001b[0m, in \u001b[0;36mDataFrame.__getitem__\u001b[1;34m(self, key)\u001b[0m\n\u001b[0;32m   3759\u001b[0m \u001b[39mif\u001b[39;00m \u001b[39mself\u001b[39m\u001b[39m.\u001b[39mcolumns\u001b[39m.\u001b[39mnlevels \u001b[39m>\u001b[39m \u001b[39m1\u001b[39m:\n\u001b[0;32m   3760\u001b[0m     \u001b[39mreturn\u001b[39;00m \u001b[39mself\u001b[39m\u001b[39m.\u001b[39m_getitem_multilevel(key)\n\u001b[1;32m-> 3761\u001b[0m indexer \u001b[39m=\u001b[39m \u001b[39mself\u001b[39m\u001b[39m.\u001b[39mcolumns\u001b[39m.\u001b[39mget_loc(key)\n\u001b[0;32m   3762\u001b[0m \u001b[39mif\u001b[39;00m is_integer(indexer):\n\u001b[0;32m   3763\u001b[0m     indexer \u001b[39m=\u001b[39m [indexer]\n",
      "File \u001b[1;32mc:\\Users\\Andre\\anaconda3\\envs\\SkabsHumanisme\\Lib\\site-packages\\pandas\\core\\indexes\\base.py:3655\u001b[0m, in \u001b[0;36mIndex.get_loc\u001b[1;34m(self, key)\u001b[0m\n\u001b[0;32m   3653\u001b[0m     \u001b[39mreturn\u001b[39;00m \u001b[39mself\u001b[39m\u001b[39m.\u001b[39m_engine\u001b[39m.\u001b[39mget_loc(casted_key)\n\u001b[0;32m   3654\u001b[0m \u001b[39mexcept\u001b[39;00m \u001b[39mKeyError\u001b[39;00m \u001b[39mas\u001b[39;00m err:\n\u001b[1;32m-> 3655\u001b[0m     \u001b[39mraise\u001b[39;00m \u001b[39mKeyError\u001b[39;00m(key) \u001b[39mfrom\u001b[39;00m \u001b[39merr\u001b[39;00m\n\u001b[0;32m   3656\u001b[0m \u001b[39mexcept\u001b[39;00m \u001b[39mTypeError\u001b[39;00m:\n\u001b[0;32m   3657\u001b[0m     \u001b[39m# If we have a listlike key, _check_indexing_error will raise\u001b[39;00m\n\u001b[0;32m   3658\u001b[0m     \u001b[39m#  InvalidIndexError. Otherwise we fall through and re-raise\u001b[39;00m\n\u001b[0;32m   3659\u001b[0m     \u001b[39m#  the TypeError.\u001b[39;00m\n\u001b[0;32m   3660\u001b[0m     \u001b[39mself\u001b[39m\u001b[39m.\u001b[39m_check_indexing_error(key)\n",
      "\u001b[1;31mKeyError\u001b[0m: 'author'"
     ]
    }
   ],
   "source": [
    "data = pd.read_pickle('LargeData/edges2.pkl')\n",
    "author_posts = dict()\n",
    "edgelist = []\n",
    "for post in tqdm(range(data.shape[0])):\n",
    "    # Create a dictionary of authors and their flair, who they answered and their comment\n",
    "    author_name = data['author'][post]\n",
    "    author_flair = data['flair'][post]\n",
    "    answered = data['addressee'][post]\n",
    "    comment = data['comment'][post]\n",
    "    comment_id = data['id'][post]\n",
    "    \n",
    "    # Add author to dictionary or add attributes\n",
    "    if author_name not in author_posts:\n",
    "        author_posts[author_name] = [author_flair,[answered],[comment],[comment_id]]\n",
    "\n",
    "    else:\n",
    "        author_posts[author_name][1].append(answered)\n",
    "        author_posts[author_name][2].append(comment)\n",
    "        author_posts[author_name][3].append(comment_id)"
   ]
  },
  {
   "cell_type": "code",
   "execution_count": null,
   "metadata": {},
   "outputs": [],
   "source": [
    "data_path = 'data/'\n",
    "data_path = 'data/'\n",
    "file = 'links2022.ndjson'\n",
    "\n",
    "data = pd.read_json(data_path + file, lines=True)\n",
    "data = data.rename(columns={'out_going':'author','in_going':'addressee'})\n",
    "author_posts = dict()\n",
    "for post in tqdm(range(data.shape[0])):\n",
    "    # Create a dictionary of authors and their flair, who they answered and their comment\n",
    "    author_name = data['author'][post]\n",
    "    author_flair = data['flair'][post]\n",
    "    answered = data['addressee'][post]\n",
    "    comment = data['comment'][post]\n",
    "    comment_id = data['id'][post]\n",
    "    \n",
    "    # Add author to dictionary or add attributes\n",
    "    if author_name not in author_posts:\n",
    "        author_posts[author_name] = [author_flair,[answered],comment,[comment_id]]\n",
    "    else:\n",
    "        author_posts[author_name][1].append(answered)\n",
    "        author_posts[author_name][2] += comment\n",
    "        author_posts[author_name][3].append(comment_id)"
   ]
  },
  {
   "cell_type": "markdown",
   "metadata": {},
   "source": [
    "### Build Graph"
   ]
  },
  {
   "cell_type": "code",
   "execution_count": null,
   "metadata": {},
   "outputs": [],
   "source": [
    "# Create a directed graph\n",
    "DirectedGraph = nx.MultiDiGraph()\n",
    "for author_name in author_posts.keys():\n",
    "    # Add nodes to the graph\n",
    "    DirectedGraph.add_node(author_name,flair=author_posts[author_name][0],comments=author_posts[author_name][2])\n",
    "\n",
    "for author_name in author_posts.keys():\n",
    "    # Add edges\n",
    "    for edge_to in author_posts[author_name][1]:\n",
    "        if edge_to != None:\n",
    "            DirectedGraph.add_edge(author_name,edge_to,comments=author_posts[author_name][2],comment_id=author_posts[author_name][3])\n",
    "\n",
    "# Create folder if it does not exist\n",
    "if not os.path.exists('LargeData'):\n",
    "    os.makedirs('LargeData')\n",
    "    \n",
    "# Save authors as a pickle file\n",
    "pickle.dump(DirectedGraph, open('LargeData/Graph.pkl','wb'))"
   ]
  },
  {
   "cell_type": "markdown",
   "metadata": {},
   "source": [
    "### Save data"
   ]
  },
  {
   "cell_type": "code",
   "execution_count": 11,
   "metadata": {},
   "outputs": [
    {
     "ename": "KeyboardInterrupt",
     "evalue": "",
     "output_type": "error",
     "traceback": [
      "\u001b[1;31m---------------------------------------------------------------------------\u001b[0m",
      "\u001b[1;31mKeyboardInterrupt\u001b[0m                         Traceback (most recent call last)",
      "\u001b[1;32mc:\\Users\\Andre\\OneDrive - Danmarks Tekniske Universitet\\Social Data Science\\Projekt_git\\MBTI\\2_BuildNetwork.ipynb Cell 8\u001b[0m line \u001b[0;36m2\n\u001b[0;32m      <a href='vscode-notebook-cell:/c%3A/Users/Andre/OneDrive%20-%20Danmarks%20Tekniske%20Universitet/Social%20Data%20Science/Projekt_git/MBTI/2_BuildNetwork.ipynb#W6sZmlsZQ%3D%3D?line=0'>1</a>\u001b[0m \u001b[39m# Save authors as a pickle file\u001b[39;00m\n\u001b[1;32m----> <a href='vscode-notebook-cell:/c%3A/Users/Andre/OneDrive%20-%20Danmarks%20Tekniske%20Universitet/Social%20Data%20Science/Projekt_git/MBTI/2_BuildNetwork.ipynb#W6sZmlsZQ%3D%3D?line=1'>2</a>\u001b[0m pickle\u001b[39m.\u001b[39mdump(data, \u001b[39mopen\u001b[39m(\u001b[39m'\u001b[39m\u001b[39mLargeData/Graph.pkl\u001b[39m\u001b[39m'\u001b[39m,\u001b[39m'\u001b[39m\u001b[39mwb\u001b[39m\u001b[39m'\u001b[39m))\n",
      "\u001b[1;31mKeyboardInterrupt\u001b[0m: "
     ]
    }
   ],
   "source": [
    "pickle.dump(data, open('LargeData/data2022.pkl','wb'))"
   ]
  },
  {
   "cell_type": "markdown",
   "metadata": {},
   "source": [
    "# Build graph 2"
   ]
  },
  {
   "cell_type": "code",
   "execution_count": 5,
   "metadata": {},
   "outputs": [
    {
     "name": "stderr",
     "output_type": "stream",
     "text": [
      "100%|██████████| 1245214/1245214 [00:39<00:00, 31319.38it/s]\n",
      "100%|██████████| 1245214/1245214 [04:02<00:00, 5142.71it/s] \n"
     ]
    }
   ],
   "source": [
    "data = pd.read_pickle('LargeData/edges2.pkl')\n",
    "author_posts = dict()\n",
    "\n",
    "DirectedGraph = nx.MultiDiGraph()\n",
    "data = data.rename(columns={'out_going':'author','in_going':'addressee'})\n",
    "for post in tqdm(range(data.shape[0])):\n",
    "    author_name = data['author'][post]\n",
    "    author_flair = data['flair'][post]\n",
    "    if author_name not in DirectedGraph.nodes():\n",
    "\n",
    "        DirectedGraph.add_node(author_name,flair = author_flair,submissions = [],submissions_id = [])\n",
    "\n",
    "for post in tqdm(range(data.shape[0])):\n",
    "    # Create a dictionary of authors and their flair, who they answered and their comment\n",
    "    author_name = data['author'][post]\n",
    "    author_flair = data['flair'][post]\n",
    "    answered = data['addressee'][post]\n",
    "    comment = data['comment'][post]\n",
    "    comment_id = data['id'][post]\n",
    "    \n",
    "\n",
    "    if author_name not in DirectedGraph.nodes():\n",
    "        DirectedGraph.add_node(author_name,flair=author_flair)\n",
    "\n",
    "    # Add author to dictionary or add attributes\n",
    "    if answered == None:\n",
    "        DirectedGraph.nodes[author_name]['submissions'].append(comment)\n",
    "        DirectedGraph.nodes[author_name]['submissions_id'].append(comment_id)\n",
    "    else:\n",
    "        DirectedGraph.add_edge(author_name,answered,comment=comment,comment_id=comment_id)\n",
    "    \n",
    "\n",
    "# Save authors as a pickle file\n",
    "pickle.dump(DirectedGraph, open('LargeData/Graph2.pkl','wb'))"
   ]
  }
 ],
 "metadata": {
  "kernelspec": {
   "display_name": "Python 3.8.17 ('base')",
   "language": "python",
   "name": "python3"
  },
  "language_info": {
   "codemirror_mode": {
    "name": "ipython",
    "version": 3
   },
   "file_extension": ".py",
   "mimetype": "text/x-python",
   "name": "python",
   "nbconvert_exporter": "python",
   "pygments_lexer": "ipython3",
   "version": "3.11.4"
  },
  "orig_nbformat": 4,
  "vscode": {
   "interpreter": {
    "hash": "4283141bebd715001f35122986f72053f481d7843d97eb240b72cdbb548092ab"
   }
  }
 },
 "nbformat": 4,
 "nbformat_minor": 2
}
